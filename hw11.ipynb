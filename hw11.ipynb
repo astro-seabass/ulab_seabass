{
 "cells": [
  {
   "cell_type": "markdown",
   "id": "43ccf68c-d4b2-49e2-9d8e-ed084a253497",
   "metadata": {},
   "source": [
    "# HW 11 - Fall Semester Review\n",
    "ULAB - Physics and Astronomy Division \\\n",
    "Due **Sunday, February 2nd, 2025 at 11:59pm** on Gradescope\n",
    "\n",
    "To prepare for next week’s homework, where we’ll explore exoplanets using **pandas**, this assignment will review fundamental Python concepts within the same theme. "
   ]
  },
  {
   "cell_type": "markdown",
   "id": "8bcba317-e05a-4e81-8117-c301b5bf7d15",
   "metadata": {},
   "source": [
    "## 0 Academic Integrity\n",
    "Please type the following message in the cell below as a comment. Sign with your name.\n",
    "\n",
    "------\n",
    "**I certify that I did not use AI tools, such as ChatGPT, to generate or write code for this assignment. All work submitted is my own and reflects my understanding of the material.**\n",
    "\n",
    "------"
   ]
  },
  {
   "cell_type": "code",
   "execution_count": 1,
   "id": "1194054d-877b-40a6-8b37-d6f6f0567d29",
   "metadata": {},
   "outputs": [],
   "source": [
    "# Your comment here\n",
    "# I certify that I did not use AI tools, such as ChatGPT, to generate or write code for this assignment. All work submitted is my own and reflects my understanding of the material.\n",
    "# Seabass Branch"
   ]
  },
  {
   "cell_type": "markdown",
   "id": "2c02945c-b6aa-4d3a-b0e8-670a12b22284",
   "metadata": {},
   "source": [
    "## 1 Functions\n",
    "**Orbital Periods and Kepler's Third Law** \\\n",
    "Kepler's Third Law states that the square of the orbital period $T$ (in years) of a planet is proportional to the cube of the semi-major axis $a$ (in astronomical units, AU):\n",
    "\n",
    "$$\n",
    "T^2 = a^3\n",
    "$$\n",
    "\n",
    "Write a **function** that calculates the orbital period $T$ given the semi-major axis $a$. (So, you can assume that $T = \\sqrt{a^3}$.)"
   ]
  },
  {
   "cell_type": "code",
   "execution_count": 2,
   "id": "5e44b709-80e6-4243-aa0b-f2d1a3c2cbf3",
   "metadata": {},
   "outputs": [],
   "source": [
    "# Your code here (WITHOUT NUMPY! or any other modules/libraries/packages)\n",
    "def orbital_period(a):\n",
    "    # calculates the orbital period with Kepler's 3rd Law\n",
    "    period = (a ** 3) ** 0.5\n",
    "    return period"
   ]
  },
  {
   "cell_type": "markdown",
   "id": "69109c9c-2e52-4e5a-a6b7-99437ac968f4",
   "metadata": {},
   "source": [
    "Call your function with the following values: \n",
    "* `planet_a` $ = 0.5\\,\\text{AU}$\n",
    "* `planet_b` $ = 1.0\\,\\text{AU}$\n",
    "* `planet_c` $ = 1.5\\,\\text{AU}$"
   ]
  },
  {
   "cell_type": "code",
   "execution_count": 3,
   "id": "a1e51eb3-81a7-4c4b-a3f0-81ceabb5e0fa",
   "metadata": {},
   "outputs": [
    {
     "name": "stdout",
     "output_type": "stream",
     "text": [
      "Planet A has a semi-major axis of 0.5 AU and an orbital period of 0.3535533905932738 years\n",
      "Planet B has a semi-major axis of 1.0 AU and an orbital period of 1.0 years\n",
      "Planet C has a semi-major axis of 1.5 AU and an orbital period of 1.8371173070873836 years\n"
     ]
    }
   ],
   "source": [
    "# Your code here\n",
    "planet_a = 0.5\n",
    "planet_a_period = orbital_period(planet_a)\n",
    "print(f\"Planet A has a semi-major axis of {planet_a} AU and an orbital period of {planet_a_period} years\")\n",
    "\n",
    "planet_b = 1.0\n",
    "planet_b_period = orbital_period(planet_b)\n",
    "print(f\"Planet B has a semi-major axis of {planet_b} AU and an orbital period of {planet_b_period} years\")\n",
    "\n",
    "planet_c = 1.5\n",
    "planet_c_period = orbital_period(planet_c)\n",
    "print(f\"Planet C has a semi-major axis of {planet_c} AU and an orbital period of {planet_c_period} years\")"
   ]
  },
  {
   "cell_type": "markdown",
   "id": "45135f7c-eb19-43ff-8f02-c7a16d3079b6",
   "metadata": {},
   "source": [
    "Import `numpy` in the cell below."
   ]
  },
  {
   "cell_type": "code",
   "execution_count": 4,
   "id": "8f71cb90-dc81-482c-b166-787e7a6c4f32",
   "metadata": {},
   "outputs": [],
   "source": [
    "# Your code here\n",
    "import numpy as np"
   ]
  },
  {
   "cell_type": "markdown",
   "id": "889fafc4-560b-4483-853e-dde03af740e9",
   "metadata": {},
   "source": [
    "How many times do you need to call numpy in a jupyter notebook? Why?"
   ]
  },
  {
   "cell_type": "code",
   "execution_count": 5,
   "id": "30806788-87ec-4486-81df-79ca3c0f0fda",
   "metadata": {},
   "outputs": [],
   "source": [
    "# Your comment (2 sentences)\n",
    "# You only need to import numpy once in a jupyter notebook because once you do, it will be defined for all following code cells.\n",
    "# However, to call functions or access variables within the Numpy, you will need to specify with `np.` for every reference."
   ]
  },
  {
   "cell_type": "markdown",
   "id": "eb4dc813-39d9-4320-8124-3336c7ce6066",
   "metadata": {},
   "source": [
    "Rewrite your **function** from above with a `numpy` function. "
   ]
  },
  {
   "cell_type": "code",
   "execution_count": 6,
   "id": "6826dbc5-e0d0-4a0d-9e18-bb59d8f7bf9f",
   "metadata": {},
   "outputs": [],
   "source": [
    "# Your code here\n",
    "def orbital_period_numpy(a):\n",
    "    # calculates the orbital period with Kepler's 3rd Law\n",
    "    period = np.sqrt(np.pow(a, 3))\n",
    "    return period"
   ]
  },
  {
   "cell_type": "markdown",
   "id": "0f4b4747-9600-4e1a-a4d3-f792a77fc6d5",
   "metadata": {},
   "source": [
    "Import the `time` package in the cell below."
   ]
  },
  {
   "cell_type": "code",
   "execution_count": 7,
   "id": "5df91bc1-f123-47cf-9af9-cf52ea567e88",
   "metadata": {},
   "outputs": [],
   "source": [
    "# Your code here\n",
    "import time"
   ]
  },
  {
   "cell_type": "markdown",
   "id": "7cdb4331-238b-4918-a7b8-3c7b6cb1b9a4",
   "metadata": {},
   "source": [
    "Call both of your functions in the cell below with ($a$ = 5). Time how long it takes each of your functions to run. **DO NOT REWRITE THEM!** "
   ]
  },
  {
   "cell_type": "code",
   "execution_count": 8,
   "id": "e6a99ef3-5aad-4916-b877-5651630e35b3",
   "metadata": {},
   "outputs": [
    {
     "name": "stdout",
     "output_type": "stream",
     "text": [
      "It took `orbital_period` 1.7875005141831934e-05 seconds to run\n",
      "It took `orbital_period_numpy` 3.14170029014349e-05 seconds to run\n"
     ]
    }
   ],
   "source": [
    "# Your code here\n",
    "\n",
    "a = 5\n",
    "\n",
    "start = time.perf_counter()\n",
    "orbital_period(a)\n",
    "end = time.perf_counter()\n",
    "print(f\"It took `orbital_period` {end - start} seconds to run\")\n",
    "\n",
    "start = time.perf_counter()\n",
    "orbital_period_numpy(a)\n",
    "end = time.perf_counter()\n",
    "print(f\"It took `orbital_period_numpy` {end - start} seconds to run\")"
   ]
  },
  {
   "cell_type": "markdown",
   "id": "e2736b3a-533c-4fce-8258-8a7174348a5d",
   "metadata": {},
   "source": [
    "Which function is faster? Why is it faster? What does that tell you about numpy functions?"
   ]
  },
  {
   "cell_type": "code",
   "execution_count": 9,
   "id": "5ba971d4-a2db-4ec2-8992-12727287c4d1",
   "metadata": {},
   "outputs": [],
   "source": [
    "# Your comment here\n",
    "# The first function using native Python operators is faster, possibly because numpy was built to be faster with lists rather than individual numbers.\n",
    "# That might tell us that numpy is not optimal if working with individual numbers."
   ]
  },
  {
   "cell_type": "markdown",
   "id": "6e3c5912-1c81-4e95-b7a7-4b46e6cb45e5",
   "metadata": {},
   "source": [
    "Define a **list** in the cell below that contains a least 1000 semi-major axis values."
   ]
  },
  {
   "cell_type": "code",
   "execution_count": 10,
   "id": "7361896e-e2b3-47af-b386-7e051c2b1917",
   "metadata": {},
   "outputs": [],
   "source": [
    "# Your code here\n",
    "import random\n",
    "planets_sma = [random.uniform(0.2, 30) for i in range(1000000)]"
   ]
  },
  {
   "cell_type": "markdown",
   "id": "912ecdc6-f5b7-4fb5-90ea-7c3486e80c1e",
   "metadata": {},
   "source": [
    "With a **for** loop. Time each of your functions again with this new list. "
   ]
  },
  {
   "cell_type": "code",
   "execution_count": 11,
   "id": "e70d8625-8d45-4cea-bba3-3cba89cb8c68",
   "metadata": {},
   "outputs": [
    {
     "name": "stdout",
     "output_type": "stream",
     "text": [
      "It took `orbital_period` 0.08155141699535307 seconds to run\n",
      "It took `orbital_period_numpy` 0.005306584003847092 seconds to run\n"
     ]
    }
   ],
   "source": [
    "# Your code here\n",
    "\n",
    "start = time.perf_counter()\n",
    "for a in planets_sma:\n",
    "    orbital_period(a)\n",
    "end = time.perf_counter()\n",
    "print(f\"It took `orbital_period` {end - start} seconds to run\")\n",
    "\n",
    "a = np.array(planets_sma)\n",
    "start = time.perf_counter()\n",
    "orbital_period_numpy(a)\n",
    "end = time.perf_counter()\n",
    "print(f\"It took `orbital_period_numpy` {end - start} seconds to run\")"
   ]
  },
  {
   "cell_type": "markdown",
   "id": "84c8be8c-d27e-43bb-b818-ba2e85a268db",
   "metadata": {},
   "source": [
    "Which function is faster? Why is it faster? What does that tell you about numpy functions?"
   ]
  },
  {
   "cell_type": "code",
   "execution_count": 12,
   "id": "9277953c-0aca-4f70-83b9-cd34627e85af",
   "metadata": {},
   "outputs": [],
   "source": [
    "# Your code here\n",
    "# Numpy was much faster, suggesting that Numpy is far more optimized to work on a large amount of data.\n",
    "# This means that numpy is sometimes but not always better traditional operator functions, it just depends on the context and use case."
   ]
  },
  {
   "cell_type": "markdown",
   "id": "0d205e5d-23ac-47cd-98cc-a0a6c8b9d0ce",
   "metadata": {},
   "source": [
    "## 2 Indexing + Conditionals\n",
    "\n",
    "You are provided with a list of exoplanet radii (in Earth radii) and their equilibrium temperatures (in Kelvin):\n",
    "\n",
    "`radii = [1.2, 0.8, 1.5, 2.0, 1.0, 0.6]` \\\n",
    "`temperatures = [300, 400, 350, 280, 500, 450]`"
   ]
  },
  {
   "cell_type": "markdown",
   "id": "0901186a-b87c-4c6e-9d1e-d846d6b3f825",
   "metadata": {},
   "source": [
    "Write a loop to filter and print the radii of planets with temperatures below 350 K."
   ]
  },
  {
   "cell_type": "code",
   "execution_count": 50,
   "id": "f98b8f8e-1619-4dc6-b398-1f8e07a45d15",
   "metadata": {},
   "outputs": [
    {
     "name": "stdout",
     "output_type": "stream",
     "text": [
      "Planet has a temperature of 300 and a radii of radius 1.2\n",
      "Planet has a temperature of 280 and a radii of radius 2.0\n"
     ]
    }
   ],
   "source": [
    "# Your code here\n",
    "\n",
    "radii = [1.2, 0.8, 1.5, 2.0, 1.0, 0.6]\n",
    "temperatures = [300, 400, 350, 280, 500, 450]\n",
    "\n",
    "def find_planets(temperatures, radii):\n",
    "    # find the radii of planets that are below 350 kelvin\n",
    "    for i, temperature in enumerate(temperatures):\n",
    "        if temperature < 350:\n",
    "            radius = radii[i]\n",
    "            print(f\"Planet has a temperature of {temperature} and a radii of radius {radius}\")\n",
    "\n",
    "find_planets(temperatures, radii)"
   ]
  },
  {
   "cell_type": "markdown",
   "id": "4adddec6-c167-4f9d-ba33-863b1047e8c8",
   "metadata": {},
   "source": [
    "Use list slicing to extract and print the radii of the first three planets."
   ]
  },
  {
   "cell_type": "code",
   "execution_count": 51,
   "id": "3d834fe4-08d5-4955-8a84-5012749d21c4",
   "metadata": {},
   "outputs": [
    {
     "name": "stdout",
     "output_type": "stream",
     "text": [
      "[1.2, 0.8, 1.5]\n"
     ]
    }
   ],
   "source": [
    "# Your code here\n",
    "first_three_planets = radii[:3]\n",
    "print(first_three_planets)"
   ]
  },
  {
   "cell_type": "markdown",
   "id": "45c45290-ca63-4ec9-98da-6d521328ee83",
   "metadata": {},
   "source": [
    "Turn the radii and temperatures data into a dictionary. "
   ]
  },
  {
   "cell_type": "code",
   "execution_count": 52,
   "id": "8bf30f1d-03aa-479f-bebb-6797b85d9430",
   "metadata": {},
   "outputs": [
    {
     "name": "stdout",
     "output_type": "stream",
     "text": [
      "{300: 1.2, 400: 0.8, 350: 1.5, 280: 2.0, 500: 1.0, 450: 0.6}\n"
     ]
    }
   ],
   "source": [
    "# Your code here\n",
    "planet_dictionary = { temperatures[i]: radii[i] for i in range(len(temperatures)) }\n",
    "print(planet_dictionary)"
   ]
  },
  {
   "cell_type": "markdown",
   "id": "45b492ad-b5c3-4eb7-9a2e-f33f544ea2c6",
   "metadata": {},
   "source": [
    "Give each of the planets in your dictionary a name. "
   ]
  },
  {
   "cell_type": "code",
   "execution_count": 54,
   "id": "6cb88478-2265-4c69-b31d-7e7da0a08328",
   "metadata": {},
   "outputs": [
    {
     "data": {
      "text/plain": [
       "{'Rhea': {'temperature': 300, 'radius': 1.2},\n",
       " 'Gemini': {'temperature': 400, 'radius': 0.8},\n",
       " 'Cetus': {'temperature': 350, 'radius': 1.5},\n",
       " 'Deimos': {'temperature': 280, 'radius': 2.0},\n",
       " 'Athena': {'temperature': 500, 'radius': 1.0},\n",
       " 'Nike': {'temperature': 450, 'radius': 0.6}}"
      ]
     },
     "execution_count": 54,
     "metadata": {},
     "output_type": "execute_result"
    }
   ],
   "source": [
    "# Your code here\n",
    "names = [\"Rhea\", \"Gemini\", \"Cetus\", \"Deimos\", \"Athena\", \"Nike\"]\n",
    "planet_dictionary = { names[i]: { \"temperature\": temperatures[i], \"radius\": radii[i] } for i in range(len(temperatures)) }\n",
    "planet_dictionary"
   ]
  },
  {
   "cell_type": "markdown",
   "id": "91ab99aa-cdbf-42ac-87d5-9af85a9596c2",
   "metadata": {},
   "source": [
    "Create a new dictionary of planets with radii between 1.0 and 2.0 Earth radii (inclusive)."
   ]
  },
  {
   "cell_type": "code",
   "execution_count": 60,
   "id": "8ee7975f-a9cc-4fd4-87f5-f8ffe8725d9d",
   "metadata": {},
   "outputs": [
    {
     "data": {
      "text/plain": [
       "{'Rhea': {'temperature': 300, 'radius': 1.2},\n",
       " 'Cetus': {'temperature': 350, 'radius': 1.5},\n",
       " 'Deimos': {'temperature': 280, 'radius': 2.0},\n",
       " 'Athena': {'temperature': 500, 'radius': 1.0}}"
      ]
     },
     "execution_count": 60,
     "metadata": {},
     "output_type": "execute_result"
    }
   ],
   "source": [
    "# Your code here\n",
    "planet_dictionary_picky = {}\n",
    "for name in planet_dictionary:\n",
    "    planet = planet_dictionary[name]\n",
    "    radius = planet[\"radius\"]\n",
    "    if radius >= 1.0 and radius <= 2.0:\n",
    "        planet_dictionary_picky[name] = planet\n",
    "\n",
    "planet_dictionary_picky"
   ]
  },
  {
   "cell_type": "markdown",
   "id": "8baa7cbf-5e33-4cdc-a5a1-07b7ef24a98a",
   "metadata": {},
   "source": [
    "## 3 NumPy\n",
    "With your 1,000,000 semi-major axes list from Problem 1, convert it to a `numpy` array. "
   ]
  },
  {
   "cell_type": "code",
   "execution_count": 29,
   "id": "933c7543-be50-44d0-8c68-85201242dc70",
   "metadata": {},
   "outputs": [],
   "source": [
    "# Your code here\n",
    "np_planets_sma = np.array(planets_sma)"
   ]
  },
  {
   "cell_type": "markdown",
   "id": "5fefc872-548b-47d9-b9e3-40166c44b7f8",
   "metadata": {},
   "source": [
    "With `numpy` find the mean, median, minimum and maximum."
   ]
  },
  {
   "cell_type": "code",
   "execution_count": 30,
   "id": "f255500b-0ff6-4869-a18f-4d6b1173f420",
   "metadata": {},
   "outputs": [
    {
     "name": "stdout",
     "output_type": "stream",
     "text": [
      "mean: 15.105528509530812\n",
      "min: 0.20000134866405014\n",
      "max: 29.99999384199525\n"
     ]
    }
   ],
   "source": [
    "# Your code here\n",
    "mean = np.mean(np_planets_sma)\n",
    "minimum = np.min(np_planets_sma)\n",
    "maximum = np.max(np_planets_sma)\n",
    "\n",
    "print(f\"mean: {mean}\")\n",
    "print(f\"min: {minimum}\")\n",
    "print(f\"max: {maximum}\")"
   ]
  },
  {
   "cell_type": "markdown",
   "id": "f044bf7d-1107-45b3-be82-ba3f5dec380a",
   "metadata": {},
   "source": [
    "Google another `numpy` function and apply it to your data. Explain what it does in a comment."
   ]
  },
  {
   "cell_type": "code",
   "execution_count": 32,
   "id": "c6f86d78-7d9a-4e97-9113-7d9588938738",
   "metadata": {},
   "outputs": [
    {
     "name": "stdout",
     "output_type": "stream",
     "text": [
      "std: 8.600111612589355\n"
     ]
    }
   ],
   "source": [
    "# Your code here\n",
    "std = np.std(np_planets_sma, ddof=1)\n",
    "print(f\"std: {std}\")\n",
    "\n",
    "# finds the sample standard deviation of an array of data"
   ]
  },
  {
   "cell_type": "markdown",
   "id": "57100a75-29a0-466c-99ed-067d4c7a3dd6",
   "metadata": {},
   "source": [
    "Turn the radii and temperatures from Problem 2 into a multi-dimensional array."
   ]
  },
  {
   "cell_type": "code",
   "execution_count": 72,
   "id": "a8eb4442-f51d-4d6b-8d4b-766992178fd6",
   "metadata": {},
   "outputs": [
    {
     "name": "stdout",
     "output_type": "stream",
     "text": [
      "[[  1.2 300. ]\n",
      " [  0.8 400. ]\n",
      " [  1.5 350. ]\n",
      " [  2.  280. ]\n",
      " [  1.  500. ]\n",
      " [  0.6 450. ]]\n"
     ]
    }
   ],
   "source": [
    "# Your code here\n",
    "np_radii = np.array(radii)\n",
    "np_temps = np.array(temperatures)\n",
    "np_planets = np.dstack((np_radii, np_temps))[0]\n",
    "print(np_planets)"
   ]
  },
  {
   "cell_type": "markdown",
   "id": "90eff94a-9b0f-4033-ab6d-33ade45ce039",
   "metadata": {},
   "source": [
    "Use a for loop to print the value on the second row, third column. "
   ]
  },
  {
   "cell_type": "code",
   "execution_count": 80,
   "id": "0f82f846-ffb6-41ee-bca9-8e6929875a7d",
   "metadata": {},
   "outputs": [
    {
     "name": "stdout",
     "output_type": "stream",
     "text": [
      "350.0\n"
     ]
    }
   ],
   "source": [
    "# Your code here\n",
    "for i, row in enumerate(np_planets):\n",
    "    for j, column in enumerate(row):\n",
    "        if i == 2 and j == 1:\n",
    "            print(column)"
   ]
  },
  {
   "cell_type": "markdown",
   "id": "5577a243-b856-4c74-9544-eeb4cdc4f116",
   "metadata": {},
   "source": [
    "Use a `numpy` arrive to print the value on the second row, third column. "
   ]
  },
  {
   "cell_type": "code",
   "execution_count": 81,
   "id": "11ac10d4-235a-4e47-b5a6-06dc0ff2ed4a",
   "metadata": {},
   "outputs": [
    {
     "data": {
      "text/plain": [
       "np.float64(350.0)"
      ]
     },
     "execution_count": 81,
     "metadata": {},
     "output_type": "execute_result"
    }
   ],
   "source": [
    "# Your code here\n",
    "np_planets[2, 1]"
   ]
  },
  {
   "cell_type": "markdown",
   "id": "c98b3c53-3775-40ce-bb9d-0796eac6cda8",
   "metadata": {},
   "source": [
    "## 4 Plotting\n",
    "Create a scatter plot of the following semi-major axes (x-axis) vs. orbital periods (y-axis). Label the axes, add a legend and add a title: \"Orbital Periods of Exoplanets.\"\n",
    "\n",
    "`semi_major_axes = [0.5, 1.0, 2.0, 1.5, 1.2, 0.8]`"
   ]
  },
  {
   "cell_type": "code",
   "execution_count": 86,
   "id": "78ad21d8-f6e2-43cf-a396-6165badbf331",
   "metadata": {},
   "outputs": [
    {
     "data": {
      "image/png": "[encoded data removed]",
      "text/plain": [
       "<Figure size 640x480 with 1 Axes>"
      ]
     },
     "metadata": {},
     "output_type": "display_data"
    }
   ],
   "source": [
    "# Your code here\n",
    "import matplotlib.pyplot as plt\n",
    "\n",
    "semi_major_axes = np.array([0.5, 1.0, 2.0, 1.5, 1.2, 0.8])\n",
    "orbital_periods = orbital_period_numpy(semi_major_axes)\n",
    "\n",
    "plt.scatter(semi_major_axes, orbital_periods, label=\"Exoplanet Radius and Orbital Period\")\n",
    "plt.title(\"Orbital Periods of Exoplanets\")\n",
    "plt.xlabel(\"Semi-major Axis (AU)\")\n",
    "plt.ylabel(\"Orbital Period (years)\")\n",
    "plt.legend()\n",
    "plt.show()"
   ]
  },
  {
   "cell_type": "markdown",
   "id": "f4377731-8f55-49fc-a3ed-46f4f7a3756d",
   "metadata": {},
   "source": [
    "Create a bar plot of planet radii vs. their equilibrium temperatures. Label the axes, add a legend and add a title: \"Equilibrium Temperatures vs. Radii.\""
   ]
  },
  {
   "cell_type": "code",
   "execution_count": 90,
   "id": "5d3a42d9-ed7d-4c43-8f76-31b76f2dd870",
   "metadata": {},
   "outputs": [
    {
     "data": {
      "image/png": "[encoded data removed]",
      "text/plain": [
       "<Figure size 640x480 with 1 Axes>"
      ]
     },
     "metadata": {},
     "output_type": "display_data"
    }
   ],
   "source": [
    "# Your code here\n",
    "plt.bar(temperatures, radii, label=\"data\")\n",
    "plt.title(\"Equilibrium Temperatures vs. Radii\")\n",
    "plt.xlabel(\"Equilibrium Temperature\")\n",
    "plt.ylabel(\"Radii\")\n",
    "plt.legend()\n",
    "plt.show()"
   ]
  },
  {
   "cell_type": "markdown",
   "id": "01789974-2e76-4cb4-9756-3db5e6ae163f",
   "metadata": {},
   "source": [
    "Put the scatter plot and bar plot on the same figure (horizonatally). "
   ]
  },
  {
   "cell_type": "code",
   "execution_count": 99,
   "id": "91ffe9f0-8b44-4a57-88a2-d8637f5e60b2",
   "metadata": {},
   "outputs": [
    {
     "data": {
      "image/png": "[encoded data removed]",
      "text/plain": [
       "<Figure size 640x480 with 2 Axes>"
      ]
     },
     "metadata": {},
     "output_type": "display_data"
    }
   ],
   "source": [
    "# Your code here\n",
    "\n",
    "plt.subplot(1, 2, 1)\n",
    "plt.scatter(semi_major_axes, orbital_periods, label=\"Keplerian Model\")\n",
    "plt.title(\"Orbital Periods of Exoplanets\")\n",
    "plt.xlabel(\"Semi-major Axis (AU)\")\n",
    "plt.ylabel(\"Orbital Period (years)\")\n",
    "plt.legend()\n",
    "\n",
    "plt.subplot(1, 2, 2)\n",
    "plt.bar(temperatures, radii, label=\"Data\")\n",
    "plt.title(\"Equilibrium Temperatures vs. Radii\")\n",
    "plt.xlabel(\"Equilibrium Temperature\")\n",
    "plt.ylabel(\"Radii\")\n",
    "plt.legend()\n",
    "\n",
    "plt.show()"
   ]
  },
  {
   "cell_type": "markdown",
   "id": "89cca10f-29a4-4f26-a9b3-8afedc5b702a",
   "metadata": {},
   "source": [
    "## 5 Modules\n",
    "Choose a function from this homework and put it into a module. Import the module with the function below. Make sure to show the output."
   ]
  },
  {
   "cell_type": "code",
   "execution_count": 122,
   "id": "23682c98-f7e7-4f16-8c05-8287dd874c82",
   "metadata": {},
   "outputs": [
    {
     "name": "stdout",
     "output_type": "stream",
     "text": [
      "hello there, i am not from the notebook\n",
      "i'm defined in `module.py` :DD\n"
     ]
    },
    {
     "data": {
      "text/plain": [
       "31.622776601683793"
      ]
     },
     "execution_count": 122,
     "metadata": {},
     "output_type": "execute_result"
    }
   ],
   "source": [
    "# Your code here\n",
    "from mymodule import orbital_period_module\n",
    "\n",
    "orbital_period_module(10)"
   ]
  },
  {
   "cell_type": "code",
   "execution_count": null,
   "id": "b40c0a54-c02c-44d0-b7db-05ac200e2845",
   "metadata": {},
   "outputs": [],
   "source": []
  }
 ],
 "metadata": {
  "kernelspec": {
   "display_name": "Python 3 (ipykernel)",
   "language": "python",
   "name": "python3"
  },
  "language_info": {
   "codemirror_mode": {
    "name": "ipython",
    "version": 3
   },
   "file_extension": ".py",
   "mimetype": "text/x-python",
   "name": "python",
   "nbconvert_exporter": "python",
   "pygments_lexer": "ipython3",
   "version": "3.13.1"
  }
 },
 "nbformat": 4,
 "nbformat_minor": 5
}
